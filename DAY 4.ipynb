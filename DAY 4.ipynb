{
 "cells": [
  {
   "cell_type": "markdown",
   "metadata": {},
   "source": [
    "# Python basics\n"
   ]
  },
  {
   "cell_type": "code",
   "execution_count": 11,
   "metadata": {},
   "outputs": [
    {
     "name": "stderr",
     "output_type": "stream",
     "text": [
      "The system cannot find the path specified.\n"
     ]
    }
   ],
   "source": [
    "![data:image/jpeg;base64,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]"
   ]
  },
  {
   "cell_type": "markdown",
   "metadata": {},
   "source": [
    "# Ordered list\n"
   ]
  },
  {
   "cell_type": "markdown",
   "metadata": {},
   "source": [
    "1 . One\n",
    "2 . Two\n",
    "3 . Three\n",
    "   "
   ]
  },
  {
   "cell_type": "markdown",
   "metadata": {},
   "source": [
    "# Unordered\n",
    "\n"
   ]
  },
  {
   "cell_type": "markdown",
   "metadata": {},
   "source": [
    "- JJS\n",
    "- GFF\n",
    "- YYU"
   ]
  },
  {
   "cell_type": "code",
   "execution_count": 22,
   "metadata": {},
   "outputs": [
    {
     "name": "stdout",
     "output_type": "stream",
     "text": [
      "Hello World\n"
     ]
    }
   ],
   "source": [
    "print(\"Hello World\")"
   ]
  },
  {
   "cell_type": "markdown",
   "metadata": {},
   "source": [
    "**BOLD**\n",
    "_Hello_"
   ]
  },
  {
   "cell_type": "markdown",
   "metadata": {},
   "source": [
    "![https://i.pinimg.com/originals/99/2f/04/992f0485a6be4e775e23a645b7ed94ff.jpg]\n"
   ]
  },
  {
   "cell_type": "code",
   "execution_count": 23,
   "metadata": {},
   "outputs": [
    {
     "data": {
      "text/plain": [
       "40"
      ]
     },
     "execution_count": 23,
     "metadata": {},
     "output_type": "execute_result"
    }
   ],
   "source": [
    "x=10\n",
    "y=30\n",
    "x+y\n"
   ]
  },
  {
   "cell_type": "markdown",
   "metadata": {},
   "source": [
    "[site][https://i.pinimg.com/originals/99/2f/04/992f0485a6be4e775e23a645b7ed94ff.jpg]\n"
   ]
  },
  {
   "cell_type": "code",
   "execution_count": 24,
   "metadata": {},
   "outputs": [
    {
     "name": "stdout",
     "output_type": "stream",
     "text": [
      "This person is Ajs08\n"
     ]
    }
   ],
   "source": [
    "name=\"Ajs08\"\n",
    "age=56\n",
    "print(\"This person is\",name)"
   ]
  },
  {
   "cell_type": "code",
   "execution_count": 26,
   "metadata": {},
   "outputs": [
    {
     "name": "stdout",
     "output_type": "stream",
     "text": [
      "Enter nameJunnu\n",
      "age?87\n",
      "Name Junnu age= 87\n"
     ]
    }
   ],
   "source": [
    "name=input(\"Enter name\")\n",
    "age=int(input(\"age?\"))\n",
    "print(\"Name\",name,\"age=\",age)"
   ]
  },
  {
   "cell_type": "code",
   "execution_count": 29,
   "metadata": {},
   "outputs": [
    {
     "name": "stdout",
     "output_type": "stream",
     "text": [
      "enter x78\n",
      "Enter y2\n",
      "80\n",
      "76\n",
      "156\n",
      "39.0\n",
      "0\n"
     ]
    }
   ],
   "source": [
    "x=int(input(\"enter x\"))\n",
    "y=int(input(\"Enter y\"))\n",
    "print(x+y)\n",
    "print(x-y)\n",
    "print(x*y)\n",
    "print(x/y)\n",
    "print(x%y)"
   ]
  },
  {
   "cell_type": "markdown",
   "metadata": {},
   "source": [
    "## Fundumental data types"
   ]
  },
  {
   "cell_type": "markdown",
   "metadata": {},
   "source": [
    "* int\n",
    "* float\n",
    "* boolean\n",
    "* complex"
   ]
  },
  {
   "cell_type": "code",
   "execution_count": 30,
   "metadata": {},
   "outputs": [
    {
     "name": "stdout",
     "output_type": "stream",
     "text": [
      "<class 'int'>\n",
      "<class 'float'>\n",
      "<class 'complex'>\n"
     ]
    }
   ],
   "source": [
    "x=10\n",
    "y=46.76\n",
    "z=8+2j\n",
    "\n",
    "print(type(x))\n",
    "print(type(y))\n",
    "print(type(z))"
   ]
  },
  {
   "cell_type": "code",
   "execution_count": 31,
   "metadata": {},
   "outputs": [
    {
     "name": "stdout",
     "output_type": "stream",
     "text": [
      "(7+3j)\n",
      "(-1-1j)\n",
      "(10+10j)\n"
     ]
    }
   ],
   "source": [
    "c1=3+1j\n",
    "c2=4+2j\n",
    "print(c1+c2)\n",
    "print(c1-c2)\n",
    "print(c1*c2)"
   ]
  },
  {
   "cell_type": "code",
   "execution_count": 33,
   "metadata": {},
   "outputs": [
    {
     "data": {
      "text/plain": [
       "False"
      ]
     },
     "execution_count": 33,
     "metadata": {},
     "output_type": "execute_result"
    }
   ],
   "source": [
    "x=10\n",
    "y=2\n",
    "x < y\n"
   ]
  },
  {
   "cell_type": "code",
   "execution_count": 34,
   "metadata": {},
   "outputs": [
    {
     "name": "stdout",
     "output_type": "stream",
     "text": [
      "<class 'int'>\n",
      "<class 'str'>\n",
      "<class 'float'>\n"
     ]
    }
   ],
   "source": [
    "i=100\n",
    "print(type(i))\n",
    "s1=str(i)\n",
    "print(type(s1))\n",
    "f1=float(i)\n",
    "print(type(f1))"
   ]
  },
  {
   "cell_type": "code",
   "execution_count": 35,
   "metadata": {},
   "outputs": [
    {
     "name": "stdout",
     "output_type": "stream",
     "text": [
      "4\n"
     ]
    }
   ],
   "source": [
    "a=1234\n",
    "print(len(str(a)))"
   ]
  },
  {
   "cell_type": "code",
   "execution_count": 37,
   "metadata": {},
   "outputs": [
    {
     "name": "stdout",
     "output_type": "stream",
     "text": [
      "100\n",
      "20 20 20\n",
      "100 200 300\n"
     ]
    }
   ],
   "source": [
    "n1=100\n",
    "a=b=c=20\n",
    "a1,b1,c1=100,200,300\n",
    "print(n1)\n",
    "print(a,b,c)\n",
    "print(a1,b1,c1)"
   ]
  },
  {
   "cell_type": "markdown",
   "metadata": {},
   "source": [
    "# Precendence of the ARTH operators\n",
    "\n",
    "* parenthesis\n",
    "* power\n",
    "* multiplication\n",
    "* addition"
   ]
  },
  {
   "cell_type": "code",
   "execution_count": 40,
   "metadata": {},
   "outputs": [
    {
     "name": "stdout",
     "output_type": "stream",
     "text": [
      "7.0\n"
     ]
    }
   ],
   "source": [
    "x=2 + 7 - 1 * 8 /2**2\n",
    "print(x)"
   ]
  },
  {
   "cell_type": "markdown",
   "metadata": {},
   "source": [
    "## Operators\n"
   ]
  },
  {
   "cell_type": "markdown",
   "metadata": {},
   "source": [
    "* +\n",
    "* -\n",
    "* *\n",
    "* /\n",
    "* %\n",
    "* **\n",
    "* //\n"
   ]
  },
  {
   "cell_type": "markdown",
   "metadata": {},
   "source": [
    "# Relational operators\n"
   ]
  },
  {
   "cell_type": "markdown",
   "metadata": {},
   "source": [
    "* ==,!=,,>,<\n"
   ]
  },
  {
   "cell_type": "code",
   "execution_count": 43,
   "metadata": {},
   "outputs": [
    {
     "name": "stdout",
     "output_type": "stream",
     "text": [
      "False\n"
     ]
    }
   ],
   "source": [
    "i=100\n",
    "a1=(i>15) and (i<76)\n",
    "print(a1)\n"
   ]
  },
  {
   "cell_type": "code",
   "execution_count": 44,
   "metadata": {},
   "outputs": [
    {
     "name": "stdout",
     "output_type": "stream",
     "text": [
      "False\n",
      "False\n"
     ]
    }
   ],
   "source": [
    "i=100\n",
    "a1=(i>15) and (i<76)\n",
    "print(a1)\n",
    "print(not i)"
   ]
  },
  {
   "cell_type": "markdown",
   "metadata": {},
   "source": [
    "## Membership operators\n"
   ]
  },
  {
   "cell_type": "markdown",
   "metadata": {},
   "source": [
    "* in\n",
    "* not in\n"
   ]
  },
  {
   "cell_type": "code",
   "execution_count": 46,
   "metadata": {},
   "outputs": [
    {
     "name": "stdout",
     "output_type": "stream",
     "text": [
      "True\n",
      "False\n"
     ]
    }
   ],
   "source": [
    "str1=\"abcd\"\n",
    "print('a' in str1)\n",
    "print('a' not in str1)"
   ]
  },
  {
   "cell_type": "markdown",
   "metadata": {},
   "source": [
    "## Control Flow \n",
    "- Conditional statements\n",
    "- Looping statements\n",
    "- if-else statements"
   ]
  },
  {
   "cell_type": "code",
   "execution_count": 51,
   "metadata": {},
   "outputs": [
    {
     "name": "stdout",
     "output_type": "stream",
     "text": [
      "enter a no.7\n",
      "odd\n"
     ]
    }
   ],
   "source": [
    "n=int(input(\"enter a no.\"))\n",
    "if n%2 ==0:\n",
    "    print(\"Even\")\n",
    "else:\n",
    "    print(\"odd\")"
   ]
  },
  {
   "cell_type": "code",
   "execution_count": 57,
   "metadata": {},
   "outputs": [
    {
     "name": "stdout",
     "output_type": "stream",
     "text": [
      "enter a no.15\n",
      "divisible\n"
     ]
    }
   ],
   "source": [
    "n=int(input(\"enter a no.\"))\n",
    "if n%3==0 and n%5==0:\n",
    "    print(\"divisible\")\n",
    "else:\n",
    "        print(\"Not divisible\")"
   ]
  },
  {
   "cell_type": "code",
   "execution_count": 71,
   "metadata": {},
   "outputs": [
    {
     "name": "stdout",
     "output_type": "stream",
     "text": [
      "Enter number12\n",
      "positive\n"
     ]
    }
   ],
   "source": [
    "n=int(input(\"Enter number\"))\n",
    "if n<0:\n",
    "    print(\"negative\")\n",
    "elif n>0:\n",
    "        print(\"positive\")\n",
    "else:\n",
    "            print(\"zero\")\n",
    "            "
   ]
  },
  {
   "cell_type": "code",
   "execution_count": 72,
   "metadata": {},
   "outputs": [
    {
     "name": "stdout",
     "output_type": "stream",
     "text": [
      "Enter year2004\n",
      "its a leap year\n"
     ]
    }
   ],
   "source": [
    "n=int(input(\"Enter year\"))\n",
    "if n%400==0:\n",
    " print(\"its a leap year\")\n",
    "elif n%4==0 and n%100!=0:\n",
    "    print(\"its a leap year\")\n",
    "else:\n",
    " print(\"Its not\")\n"
   ]
  },
  {
   "cell_type": "code",
   "execution_count": null,
   "metadata": {},
   "outputs": [],
   "source": []
  },
  {
   "cell_type": "code",
   "execution_count": null,
   "metadata": {},
   "outputs": [],
   "source": []
  }
 ],
 "metadata": {
  "kernelspec": {
   "display_name": "Python 3",
   "language": "python",
   "name": "python3"
  },
  "language_info": {
   "codemirror_mode": {
    "name": "ipython",
    "version": 3
   },
   "file_extension": ".py",
   "mimetype": "text/x-python",
   "name": "python",
   "nbconvert_exporter": "python",
   "pygments_lexer": "ipython3",
   "version": "3.7.3"
  }
 },
 "nbformat": 4,
 "nbformat_minor": 2
}
